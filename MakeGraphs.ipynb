{
 "cells": [
  {
   "cell_type": "code",
   "execution_count": null,
   "metadata": {},
   "outputs": [],
   "source": [
    "import pandas as pd\n",
    "import matplotlib.pyplot as plt\n",
    "from scipy.interpolate import make_interp_spline, BSpline\n",
    "import numpy as np"
   ]
  },
  {
   "cell_type": "code",
   "execution_count": null,
   "metadata": {
    "scrolled": true
   },
   "outputs": [],
   "source": [
    "def get_data(inputPath, fileName, numberOfFiles, columnNames):\n",
    "    files = []\n",
    "    for i in range(0, numberOfFiles):\n",
    "        files.append(pd.read_csv(\"{}{}({}).txt\".format(inputPath, fileName, i)))\n",
    "        files[i] = files[i][['step'] + columnNames]\n",
    "    data = files[0]\n",
    "    for i in range(1, numberOfFiles):\n",
    "        data = data.merge(files[i], on = 'step', suffixes=(str(i-1), str(i)))\n",
    "    return data\n",
    "\n",
    "def smooth(steps, values, steps_new):\n",
    "    spl = make_interp_spline(steps, values, k=1) #BSpline object\n",
    "    return spl(steps_new)"
   ]
  },
  {
   "cell_type": "code",
   "execution_count": null,
   "metadata": {},
   "outputs": [],
   "source": [
    "# paths\n",
    "inputPath = './output/'\n",
    "outputPath = './metrics/'\n",
    "fileName = '1D_advanced_Sequential10000_BoltzmannQ_10000steps'\n",
    "numberOfFiles = 8"
   ]
  },
  {
   "cell_type": "code",
   "execution_count": null,
   "metadata": {
    "scrolled": true
   },
   "outputs": [],
   "source": [
    "data = get_data(inputPath, fileName, numberOfFiles, ['loss', 'mean_q']).drop(columns=['step'])\n",
    "data"
   ]
  },
  {
   "cell_type": "code",
   "execution_count": null,
   "metadata": {
    "scrolled": true
   },
   "outputs": [],
   "source": [
    "data = data.drop(range(0,11))"
   ]
  },
  {
   "cell_type": "code",
   "execution_count": null,
   "metadata": {},
   "outputs": [],
   "source": [
    "data.reset_index(inplace=True, drop=True)"
   ]
  },
  {
   "cell_type": "code",
   "execution_count": null,
   "metadata": {
    "scrolled": true
   },
   "outputs": [],
   "source": [
    "data.to_csv(fileName + '.csv')"
   ]
  },
  {
   "cell_type": "markdown",
   "metadata": {},
   "source": [
    "# Model"
   ]
  },
  {
   "cell_type": "code",
   "execution_count": null,
   "metadata": {},
   "outputs": [],
   "source": [
    "def regression(x, y, polynom = 30, sample = 100):\n",
    "    z = np.polyfit(x, y, polynom)\n",
    "    f = np.poly1d(z)\n",
    "    x_new = np.linspace(x[0], x[-1], sample)\n",
    "    y_new = f(x_new)\n",
    "    return x_new, y_new"
   ]
  },
  {
   "cell_type": "code",
   "execution_count": null,
   "metadata": {},
   "outputs": [],
   "source": [
    "def plot_interval_confidence(data, min_values, max_values):\n",
    "    x, y_1 = regression(data.index, min_values)\n",
    "    plt.plot(x, y_1, label = 'borne_min', color = 'grey')\n",
    "    x, y_2 = regression(data.index, max_values)\n",
    "    plt.plot(x, y_2, label = 'borne_max', color = 'grey')\n",
    "    plt.fill_between(x, y_1, y_2, color = 'grey', alpha = 0.1)"
   ]
  },
  {
   "cell_type": "code",
   "execution_count": null,
   "metadata": {},
   "outputs": [],
   "source": [
    "def plot_metric(data, min_max, metric_name):\n",
    "    plt.figure(figsize = (20,10))\n",
    "    for (min_values, max_values) in min_max :\n",
    "        plot_interval_confidence(data, min_values, max_values)\n",
    "    for i in range(numberOfFiles):\n",
    "        x, y = regression(data.index, data[metric_name+str(i)])\n",
    "        plt.plot(x, y, alpha = .6, label = i)"
   ]
  },
  {
   "cell_type": "markdown",
   "metadata": {},
   "source": [
    "## Loss"
   ]
  },
  {
   "cell_type": "code",
   "execution_count": null,
   "metadata": {
    "scrolled": true
   },
   "outputs": [],
   "source": [
    "losses = pd.DataFrame(data['loss0'])\n",
    "for i in range(1,8):\n",
    "    losses['loss'+str(i)] = data['loss'+str(i)]\n",
    "losses"
   ]
  },
  {
   "cell_type": "code",
   "execution_count": null,
   "metadata": {
    "scrolled": true
   },
   "outputs": [],
   "source": [
    "means = losses.T.mean()\n",
    "stds = losses.T.std()\n",
    "min_values_68 = means - stds/(numberOfFiles)**(.5)\n",
    "max_values_68 = means + stds/(numberOfFiles)**(.5)\n",
    "\n",
    "min_values_95 = means - 2 * stds/(numberOfFiles)**(.5)\n",
    "max_values_95 = means + 2 * stds/(numberOfFiles)**(.5)\n",
    "\n",
    "min_values_99 = means - 3 * stds/(numberOfFiles)**(.5)\n",
    "max_values_99 = means + 3 * stds/(numberOfFiles)**(.5)\n",
    "\n",
    "min_max = [(min_values_68, max_values_68), (min_values_95, max_values_95), (min_values_99, max_values_99)]"
   ]
  },
  {
   "cell_type": "code",
   "execution_count": null,
   "metadata": {},
   "outputs": [],
   "source": [
    "plot_metric(data, min_max, 'loss')\n",
    "plt.xlabel('Episode')\n",
    "plt.ylabel('Perte')\n",
    "plt.title(\"Courbe de perte pour l'agent avancé paramètres A\")\n",
    "plt.savefig('LOL.png')"
   ]
  },
  {
   "cell_type": "markdown",
   "metadata": {},
   "source": [
    "### Mean_Q"
   ]
  },
  {
   "cell_type": "code",
   "execution_count": null,
   "metadata": {
    "scrolled": true
   },
   "outputs": [],
   "source": [
    "mean_q = pd.DataFrame(data['mean_q0'])\n",
    "for i in range(1,8):\n",
    "    mean_q['loss'+str(i)] = data['mean_q'+str(i)]\n",
    "mean_q"
   ]
  },
  {
   "cell_type": "code",
   "execution_count": null,
   "metadata": {},
   "outputs": [],
   "source": [
    "means = mean_q.T.mean()\n",
    "stds = mean_q.T.std()\n",
    "min_values_68 = means - stds/(numberOfFiles)**(.5)\n",
    "max_values_68 = means + stds/(numberOfFiles)**(.5)\n",
    "\n",
    "min_values_95 = means - 2 * stds/(numberOfFiles)**(.5)\n",
    "max_values_95 = means + 2 * stds/(numberOfFiles)**(.5)\n",
    "\n",
    "min_values_99 = means - 3 * stds/(numberOfFiles)**(.5)\n",
    "max_values_99 = means + 3 * stds/(numberOfFiles)**(.5)\n",
    "\n",
    "min_max = [(min_values_68, max_values_68), (min_values_95, max_values_95), (min_values_99, max_values_99)]"
   ]
  },
  {
   "cell_type": "code",
   "execution_count": null,
   "metadata": {},
   "outputs": [],
   "source": [
    "plot_metric(data, min_max, 'mean_q')\n",
    "plt.xlabel('Episode')\n",
    "plt.ylabel('Q-moyenne')\n",
    "plt.title(\"Courbe de Q-moyenne pour l'agent avancé paramètres A\")\n",
    "plt.savefig('LOL.png')"
   ]
  }
 ],
 "metadata": {
  "kernelspec": {
   "display_name": "Python 3",
   "language": "python",
   "name": "python3"
  },
  "language_info": {
   "codemirror_mode": {
    "name": "ipython",
    "version": 3
   },
   "file_extension": ".py",
   "mimetype": "text/x-python",
   "name": "python",
   "nbconvert_exporter": "python",
   "pygments_lexer": "ipython3",
   "version": "3.6.8"
  }
 },
 "nbformat": 4,
 "nbformat_minor": 2
}
